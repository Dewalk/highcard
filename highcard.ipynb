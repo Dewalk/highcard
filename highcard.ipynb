{
 "cells": [
  {
   "cell_type": "code",
   "execution_count": 1,
   "metadata": {},
   "outputs": [],
   "source": [
    "# highcard\n",
    "# given a regular deck of cards two players compete to see whose cards are higher\n"
   ]
  },
  {
   "cell_type": "code",
   "execution_count": 2,
   "metadata": {},
   "outputs": [
    {
     "data": {
      "text/plain": [
       "['__add__',\n",
       " '__class__',\n",
       " '__contains__',\n",
       " '__delattr__',\n",
       " '__dir__',\n",
       " '__doc__',\n",
       " '__eq__',\n",
       " '__format__',\n",
       " '__ge__',\n",
       " '__getattribute__',\n",
       " '__getitem__',\n",
       " '__getnewargs__',\n",
       " '__gt__',\n",
       " '__hash__',\n",
       " '__init__',\n",
       " '__init_subclass__',\n",
       " '__iter__',\n",
       " '__le__',\n",
       " '__len__',\n",
       " '__lt__',\n",
       " '__mod__',\n",
       " '__mul__',\n",
       " '__ne__',\n",
       " '__new__',\n",
       " '__reduce__',\n",
       " '__reduce_ex__',\n",
       " '__repr__',\n",
       " '__rmod__',\n",
       " '__rmul__',\n",
       " '__setattr__',\n",
       " '__sizeof__',\n",
       " '__str__',\n",
       " '__subclasshook__',\n",
       " 'capitalize',\n",
       " 'casefold',\n",
       " 'center',\n",
       " 'count',\n",
       " 'encode',\n",
       " 'endswith',\n",
       " 'expandtabs',\n",
       " 'find',\n",
       " 'format',\n",
       " 'format_map',\n",
       " 'index',\n",
       " 'isalnum',\n",
       " 'isalpha',\n",
       " 'isascii',\n",
       " 'isdecimal',\n",
       " 'isdigit',\n",
       " 'isidentifier',\n",
       " 'islower',\n",
       " 'isnumeric',\n",
       " 'isprintable',\n",
       " 'isspace',\n",
       " 'istitle',\n",
       " 'isupper',\n",
       " 'join',\n",
       " 'ljust',\n",
       " 'lower',\n",
       " 'lstrip',\n",
       " 'maketrans',\n",
       " 'partition',\n",
       " 'replace',\n",
       " 'rfind',\n",
       " 'rindex',\n",
       " 'rjust',\n",
       " 'rpartition',\n",
       " 'rsplit',\n",
       " 'rstrip',\n",
       " 'split',\n",
       " 'splitlines',\n",
       " 'startswith',\n",
       " 'strip',\n",
       " 'swapcase',\n",
       " 'title',\n",
       " 'translate',\n",
       " 'upper',\n",
       " 'zfill']"
      ]
     },
     "execution_count": 2,
     "metadata": {},
     "output_type": "execute_result"
    }
   ],
   "source": [
    "dir(str)"
   ]
  },
  {
   "cell_type": "code",
   "execution_count": 3,
   "metadata": {},
   "outputs": [
    {
     "data": {
      "text/plain": [
       "['2', '3', '4', '5', '6', '7', '8', '9', '10', 'J', 'Q', 'K', 'A']"
      ]
     },
     "execution_count": 3,
     "metadata": {},
     "output_type": "execute_result"
    }
   ],
   "source": [
    "# BECAUSE I WANT this variable to NEVER CHANGE, I define it in ALL CAPS.\n",
    "# This is just a courtesy to the reader. PYTHON doesn't enforce!!!!!\n",
    "\n",
    "RANK = '2 3 4 5 6 7 8 9 10 J Q K A'.split() \n",
    "RANK"
   ]
  },
  {
   "cell_type": "code",
   "execution_count": 4,
   "metadata": {},
   "outputs": [
    {
     "data": {
      "text/plain": [
       "list"
      ]
     },
     "execution_count": 4,
     "metadata": {},
     "output_type": "execute_result"
    }
   ],
   "source": [
    "type(RANK)"
   ]
  },
  {
   "cell_type": "code",
   "execution_count": 5,
   "metadata": {},
   "outputs": [],
   "source": [
    "#the str method split() splits a *string* into individual elements \n",
    "#and puts the elements into a *list*. By default, it splits on a single space."
   ]
  },
  {
   "cell_type": "code",
   "execution_count": 6,
   "metadata": {},
   "outputs": [],
   "source": [
    "# let's use the split method to make a list of the suits"
   ]
  },
  {
   "cell_type": "code",
   "execution_count": 7,
   "metadata": {},
   "outputs": [
    {
     "data": {
      "text/plain": [
       "['HEARTS', 'CLUBS', 'DIAMONDS', 'SPADES']"
      ]
     },
     "execution_count": 7,
     "metadata": {},
     "output_type": "execute_result"
    }
   ],
   "source": [
    "SUITS = 'HEARTS CLUBS DIAMONDS SPADES'.split()\n",
    "SUITS"
   ]
  },
  {
   "cell_type": "code",
   "execution_count": null,
   "metadata": {},
   "outputs": [],
   "source": []
  },
  {
   "cell_type": "code",
   "execution_count": null,
   "metadata": {},
   "outputs": [],
   "source": []
  },
  {
   "cell_type": "code",
   "execution_count": null,
   "metadata": {},
   "outputs": [],
   "source": []
  },
  {
   "cell_type": "code",
   "execution_count": null,
   "metadata": {},
   "outputs": [],
   "source": []
  },
  {
   "cell_type": "code",
   "execution_count": 8,
   "metadata": {},
   "outputs": [
    {
     "data": {
      "text/plain": [
       "['2 of HEARTS',\n",
       " '3 of HEARTS',\n",
       " '4 of HEARTS',\n",
       " '5 of HEARTS',\n",
       " '6 of HEARTS',\n",
       " '7 of HEARTS',\n",
       " '8 of HEARTS',\n",
       " '9 of HEARTS',\n",
       " '10 of HEARTS',\n",
       " 'J of HEARTS',\n",
       " 'Q of HEARTS',\n",
       " 'K of HEARTS',\n",
       " 'A of HEARTS',\n",
       " '2 of CLUBS',\n",
       " '3 of CLUBS',\n",
       " '4 of CLUBS',\n",
       " '5 of CLUBS',\n",
       " '6 of CLUBS',\n",
       " '7 of CLUBS',\n",
       " '8 of CLUBS',\n",
       " '9 of CLUBS',\n",
       " '10 of CLUBS',\n",
       " 'J of CLUBS',\n",
       " 'Q of CLUBS',\n",
       " 'K of CLUBS',\n",
       " 'A of CLUBS',\n",
       " '2 of DIAMONDS',\n",
       " '3 of DIAMONDS',\n",
       " '4 of DIAMONDS',\n",
       " '5 of DIAMONDS',\n",
       " '6 of DIAMONDS',\n",
       " '7 of DIAMONDS',\n",
       " '8 of DIAMONDS',\n",
       " '9 of DIAMONDS',\n",
       " '10 of DIAMONDS',\n",
       " 'J of DIAMONDS',\n",
       " 'Q of DIAMONDS',\n",
       " 'K of DIAMONDS',\n",
       " 'A of DIAMONDS',\n",
       " '2 of SPADES',\n",
       " '3 of SPADES',\n",
       " '4 of SPADES',\n",
       " '5 of SPADES',\n",
       " '6 of SPADES',\n",
       " '7 of SPADES',\n",
       " '8 of SPADES',\n",
       " '9 of SPADES',\n",
       " '10 of SPADES',\n",
       " 'J of SPADES',\n",
       " 'Q of SPADES',\n",
       " 'K of SPADES',\n",
       " 'A of SPADES']"
      ]
     },
     "execution_count": 8,
     "metadata": {},
     "output_type": "execute_result"
    }
   ],
   "source": [
    "deck1 = [] # define an empty list to hold our cards\n",
    "\n",
    "for suit in SUITS:\n",
    "    for rank in RANK:\n",
    "        deck1.append(f'{rank} of {suit}')\n",
    "deck1"
   ]
  },
  {
   "cell_type": "code",
   "execution_count": 9,
   "metadata": {
    "scrolled": true
   },
   "outputs": [
    {
     "data": {
      "text/plain": [
       "['2 of HEARTS',\n",
       " '2 of CLUBS',\n",
       " '2 of DIAMONDS',\n",
       " '2 of SPADES',\n",
       " '3 of HEARTS',\n",
       " '3 of CLUBS',\n",
       " '3 of DIAMONDS',\n",
       " '3 of SPADES',\n",
       " '4 of HEARTS',\n",
       " '4 of CLUBS',\n",
       " '4 of DIAMONDS',\n",
       " '4 of SPADES',\n",
       " '5 of HEARTS',\n",
       " '5 of CLUBS',\n",
       " '5 of DIAMONDS',\n",
       " '5 of SPADES',\n",
       " '6 of HEARTS',\n",
       " '6 of CLUBS',\n",
       " '6 of DIAMONDS',\n",
       " '6 of SPADES',\n",
       " '7 of HEARTS',\n",
       " '7 of CLUBS',\n",
       " '7 of DIAMONDS',\n",
       " '7 of SPADES',\n",
       " '8 of HEARTS',\n",
       " '8 of CLUBS',\n",
       " '8 of DIAMONDS',\n",
       " '8 of SPADES',\n",
       " '9 of HEARTS',\n",
       " '9 of CLUBS',\n",
       " '9 of DIAMONDS',\n",
       " '9 of SPADES',\n",
       " '10 of HEARTS',\n",
       " '10 of CLUBS',\n",
       " '10 of DIAMONDS',\n",
       " '10 of SPADES',\n",
       " 'J of HEARTS',\n",
       " 'J of CLUBS',\n",
       " 'J of DIAMONDS',\n",
       " 'J of SPADES',\n",
       " 'Q of HEARTS',\n",
       " 'Q of CLUBS',\n",
       " 'Q of DIAMONDS',\n",
       " 'Q of SPADES',\n",
       " 'K of HEARTS',\n",
       " 'K of CLUBS',\n",
       " 'K of DIAMONDS',\n",
       " 'K of SPADES',\n",
       " 'A of HEARTS',\n",
       " 'A of CLUBS',\n",
       " 'A of DIAMONDS',\n",
       " 'A of SPADES']"
      ]
     },
     "execution_count": 9,
     "metadata": {},
     "output_type": "execute_result"
    }
   ],
   "source": [
    "# let's make a deck of cards using our RANK and SUITS and nested for loops\n",
    "deck1 = [] # define an empty list to hold our cards\n",
    "\n",
    "for rank in RANK:\n",
    "    for suit in SUITS:\n",
    "        deck1.append(f'{rank} of {suit}')\n",
    "\n",
    "deck1"
   ]
  },
  {
   "cell_type": "code",
   "execution_count": 10,
   "metadata": {},
   "outputs": [
    {
     "data": {
      "text/plain": [
       "list"
      ]
     },
     "execution_count": 10,
     "metadata": {},
     "output_type": "execute_result"
    }
   ],
   "source": [
    "type(deck1)"
   ]
  },
  {
   "cell_type": "code",
   "execution_count": 11,
   "metadata": {},
   "outputs": [
    {
     "data": {
      "text/plain": [
       "52"
      ]
     },
     "execution_count": 11,
     "metadata": {},
     "output_type": "execute_result"
    }
   ],
   "source": [
    "# we now have 52 cards! to use to play our game\n",
    "len(deck1)"
   ]
  },
  {
   "cell_type": "markdown",
   "metadata": {},
   "source": [
    "so we did all this stuff and it looks ok.\n",
    "BUT WE HAVE A BIG PROBLEM if we want to use this deck to play high card!!!\n",
    "Any ideas on what the problem is?"
   ]
  },
  {
   "cell_type": "code",
   "execution_count": null,
   "metadata": {},
   "outputs": [],
   "source": []
  },
  {
   "cell_type": "code",
   "execution_count": null,
   "metadata": {},
   "outputs": [],
   "source": []
  },
  {
   "cell_type": "code",
   "execution_count": null,
   "metadata": {},
   "outputs": [],
   "source": []
  },
  {
   "cell_type": "code",
   "execution_count": null,
   "metadata": {},
   "outputs": [],
   "source": []
  },
  {
   "cell_type": "code",
   "execution_count": null,
   "metadata": {},
   "outputs": [],
   "source": []
  },
  {
   "cell_type": "code",
   "execution_count": null,
   "metadata": {},
   "outputs": [],
   "source": []
  },
  {
   "cell_type": "code",
   "execution_count": null,
   "metadata": {},
   "outputs": [],
   "source": []
  },
  {
   "cell_type": "code",
   "execution_count": 12,
   "metadata": {},
   "outputs": [
    {
     "data": {
      "text/plain": [
       "['2 of HEARTS',\n",
       " '2 of CLUBS',\n",
       " '2 of DIAMONDS',\n",
       " '2 of SPADES',\n",
       " '3 of HEARTS',\n",
       " '3 of CLUBS',\n",
       " '3 of DIAMONDS',\n",
       " '3 of SPADES',\n",
       " '4 of HEARTS',\n",
       " '4 of CLUBS',\n",
       " '4 of DIAMONDS',\n",
       " '4 of SPADES',\n",
       " '5 of HEARTS',\n",
       " '5 of CLUBS',\n",
       " '5 of DIAMONDS',\n",
       " '5 of SPADES',\n",
       " '6 of HEARTS',\n",
       " '6 of CLUBS',\n",
       " '6 of DIAMONDS',\n",
       " '6 of SPADES',\n",
       " '7 of HEARTS',\n",
       " '7 of CLUBS',\n",
       " '7 of DIAMONDS',\n",
       " '7 of SPADES',\n",
       " '8 of HEARTS',\n",
       " '8 of CLUBS',\n",
       " '8 of DIAMONDS',\n",
       " '8 of SPADES',\n",
       " '9 of HEARTS',\n",
       " '9 of CLUBS',\n",
       " '9 of DIAMONDS',\n",
       " '9 of SPADES',\n",
       " '10 of HEARTS',\n",
       " '10 of CLUBS',\n",
       " '10 of DIAMONDS',\n",
       " '10 of SPADES',\n",
       " 'J of HEARTS',\n",
       " 'J of CLUBS',\n",
       " 'J of DIAMONDS',\n",
       " 'J of SPADES',\n",
       " 'Q of HEARTS',\n",
       " 'Q of CLUBS',\n",
       " 'Q of DIAMONDS',\n",
       " 'Q of SPADES',\n",
       " 'K of HEARTS',\n",
       " 'K of CLUBS',\n",
       " 'K of DIAMONDS',\n",
       " 'K of SPADES',\n",
       " 'A of HEARTS',\n",
       " 'A of CLUBS',\n",
       " 'A of DIAMONDS',\n",
       " 'A of SPADES']"
      ]
     },
     "execution_count": 12,
     "metadata": {},
     "output_type": "execute_result"
    }
   ],
   "source": [
    "#OUR BIG PROBLEM: HOW DO I TELL WHICH CARD IS HIGHER???\n",
    "deck1"
   ]
  },
  {
   "cell_type": "code",
   "execution_count": 13,
   "metadata": {},
   "outputs": [],
   "source": [
    "# It would be better if I stored the RANK and the SUIT separately, but together.\n",
    "# That way, I could just use the RANK to decide which card was higher."
   ]
  },
  {
   "cell_type": "code",
   "execution_count": 14,
   "metadata": {},
   "outputs": [
    {
     "name": "stdout",
     "output_type": "stream",
     "text": [
      "['2', '3', '4', '5', '6', '7', '8', '9', '10', 'J', 'Q', 'K', 'A']\n"
     ]
    }
   ],
   "source": [
    "print(RANK)"
   ]
  },
  {
   "cell_type": "code",
   "execution_count": 15,
   "metadata": {},
   "outputs": [
    {
     "data": {
      "text/plain": [
       "'2'"
      ]
     },
     "execution_count": 15,
     "metadata": {},
     "output_type": "execute_result"
    }
   ],
   "source": [
    "RANK[0]"
   ]
  },
  {
   "cell_type": "code",
   "execution_count": 16,
   "metadata": {},
   "outputs": [
    {
     "data": {
      "text/plain": [
       "'A'"
      ]
     },
     "execution_count": 16,
     "metadata": {},
     "output_type": "execute_result"
    }
   ],
   "source": [
    "RANK[12]"
   ]
  },
  {
   "cell_type": "markdown",
   "metadata": {},
   "source": [
    "So, if I store the RANK separately from the SUIT, \n",
    "I can use the index position of the RANK to tell which card wins!!!\n",
    "higher index ==> higher card!!!"
   ]
  },
  {
   "cell_type": "markdown",
   "metadata": {},
   "source": [
    "That means we need to start over!"
   ]
  },
  {
   "cell_type": "markdown",
   "metadata": {},
   "source": [
    "We didn't talk about *tuples* much, but this is a PERFECT PLACE to use them.\n",
    "I need to store two related things, rank and suit, together in one place\n",
    "So I will redo my deck entirely! \n",
    "Need make each one of my cards into a tuple and keep my deck as a list\n",
    "My deck will be .... a list of tuples!"
   ]
  },
  {
   "cell_type": "code",
   "execution_count": 17,
   "metadata": {},
   "outputs": [
    {
     "name": "stdout",
     "output_type": "stream",
     "text": [
      "['2', '3', '4', '5', '6', '7', '8', '9', '10', 'J', 'Q', 'K', 'A']\n",
      "['HEARTS', 'CLUBS', 'DIAMONDS', 'SPADES']\n"
     ]
    }
   ],
   "source": [
    "print(RANK)\n",
    "print(SUITS)"
   ]
  },
  {
   "cell_type": "code",
   "execution_count": 19,
   "metadata": {},
   "outputs": [],
   "source": [
    "#ASIDE\n",
    "\n",
    "list1 = [1,2,3,4,5]\n",
    "tuple1 = (1,2,3,4,5)\n",
    "tuple_card  = ('5', 'DIAMONDS')"
   ]
  },
  {
   "cell_type": "code",
   "execution_count": 20,
   "metadata": {},
   "outputs": [
    {
     "name": "stdout",
     "output_type": "stream",
     "text": [
      "[100, 200, 300, 400, 500]\n"
     ]
    }
   ],
   "source": [
    "#ASIDE\n",
    "list2 = []\n",
    "\n",
    "\n",
    "list2.append(100)\n",
    "list2.append(200)\n",
    "list2.append(300)\n",
    "list2.append(400)\n",
    "list2.append(500)\n",
    "print(list2)"
   ]
  },
  {
   "cell_type": "code",
   "execution_count": 21,
   "metadata": {},
   "outputs": [
    {
     "data": {
      "text/plain": [
       "500"
      ]
     },
     "execution_count": 21,
     "metadata": {},
     "output_type": "execute_result"
    }
   ],
   "source": [
    "list2[-1]"
   ]
  },
  {
   "cell_type": "code",
   "execution_count": 22,
   "metadata": {},
   "outputs": [
    {
     "data": {
      "text/plain": [
       "100"
      ]
     },
     "execution_count": 22,
     "metadata": {},
     "output_type": "execute_result"
    }
   ],
   "source": [
    "list2[0]"
   ]
  },
  {
   "cell_type": "code",
   "execution_count": 23,
   "metadata": {},
   "outputs": [
    {
     "data": {
      "text/plain": [
       "500"
      ]
     },
     "execution_count": 23,
     "metadata": {},
     "output_type": "execute_result"
    }
   ],
   "source": [
    "list2[4]"
   ]
  },
  {
   "cell_type": "code",
   "execution_count": 24,
   "metadata": {},
   "outputs": [
    {
     "data": {
      "text/plain": [
       "list"
      ]
     },
     "execution_count": 24,
     "metadata": {},
     "output_type": "execute_result"
    }
   ],
   "source": [
    "list"
   ]
  },
  {
   "cell_type": "code",
   "execution_count": null,
   "metadata": {},
   "outputs": [],
   "source": []
  },
  {
   "cell_type": "code",
   "execution_count": 25,
   "metadata": {},
   "outputs": [
    {
     "name": "stdout",
     "output_type": "stream",
     "text": [
      "[('2', 'HEARTS'), ('2', 'CLUBS'), ('2', 'DIAMONDS'), ('2', 'SPADES'), ('3', 'HEARTS'), ('3', 'CLUBS'), ('3', 'DIAMONDS'), ('3', 'SPADES'), ('4', 'HEARTS'), ('4', 'CLUBS'), ('4', 'DIAMONDS'), ('4', 'SPADES'), ('5', 'HEARTS'), ('5', 'CLUBS'), ('5', 'DIAMONDS'), ('5', 'SPADES'), ('6', 'HEARTS'), ('6', 'CLUBS'), ('6', 'DIAMONDS'), ('6', 'SPADES'), ('7', 'HEARTS'), ('7', 'CLUBS'), ('7', 'DIAMONDS'), ('7', 'SPADES'), ('8', 'HEARTS'), ('8', 'CLUBS'), ('8', 'DIAMONDS'), ('8', 'SPADES'), ('9', 'HEARTS'), ('9', 'CLUBS'), ('9', 'DIAMONDS'), ('9', 'SPADES'), ('10', 'HEARTS'), ('10', 'CLUBS'), ('10', 'DIAMONDS'), ('10', 'SPADES'), ('J', 'HEARTS'), ('J', 'CLUBS'), ('J', 'DIAMONDS'), ('J', 'SPADES'), ('Q', 'HEARTS'), ('Q', 'CLUBS'), ('Q', 'DIAMONDS'), ('Q', 'SPADES'), ('K', 'HEARTS'), ('K', 'CLUBS'), ('K', 'DIAMONDS'), ('K', 'SPADES'), ('A', 'HEARTS'), ('A', 'CLUBS'), ('A', 'DIAMONDS'), ('A', 'SPADES')]\n"
     ]
    }
   ],
   "source": [
    "deck = [] # THIS DEFINES AN EMPTY LIST\n",
    "\n",
    "for rank in RANK:  \n",
    "    for suit in SUITS:\n",
    "        deck.append((rank, suit)) ##This part CHANGES. The individual cards are now tuples.\n",
    "\n",
    "print(deck)"
   ]
  },
  {
   "cell_type": "markdown",
   "metadata": {},
   "source": [
    "HOW DOES THIS SOLVE OUR PROBLEM???\n",
    "We want to see if one card is higher than another.\n",
    "Take a moment to figure out how we might do this"
   ]
  },
  {
   "cell_type": "code",
   "execution_count": 26,
   "metadata": {},
   "outputs": [
    {
     "name": "stdout",
     "output_type": "stream",
     "text": [
      "('2', 'HEARTS') ('A', 'SPADES')\n"
     ]
    }
   ],
   "source": [
    "# suppose we want to compare the first and the last card in the deck\n",
    "\n",
    "first = deck[0]\n",
    "last = deck[-1]\n",
    "print(first, last)"
   ]
  },
  {
   "cell_type": "code",
   "execution_count": 27,
   "metadata": {},
   "outputs": [
    {
     "name": "stdout",
     "output_type": "stream",
     "text": [
      "2\n",
      "A\n"
     ]
    }
   ],
   "source": [
    "# to see which one is higher, we need to compare the first part of each tuple.\n",
    "\n",
    "print(first[0])\n",
    "print(last[0])\n"
   ]
  },
  {
   "cell_type": "code",
   "execution_count": 28,
   "metadata": {},
   "outputs": [
    {
     "name": "stdout",
     "output_type": "stream",
     "text": [
      "['2', '3', '4', '5', '6', '7', '8', '9', '10', 'J', 'Q', 'K', 'A']\n"
     ]
    }
   ],
   "source": [
    "# BUT HOW, EXACTLY, DO WE COMPARE THEM??\n",
    "# WE NEED TO USE OUR RANK variable, the list we defined earlier!\n",
    "print(RANK)"
   ]
  },
  {
   "cell_type": "markdown",
   "metadata": {},
   "source": [
    "if only there were a way to compare the first part of each tuple, \n",
    "then look it up in the list\n",
    "and then see which index was a higher number!!\n",
    "\n",
    "sounds like we need to investigate what methods are available for lists!\n",
    "\n",
    "how do we do that?"
   ]
  },
  {
   "cell_type": "code",
   "execution_count": 29,
   "metadata": {},
   "outputs": [
    {
     "data": {
      "text/plain": [
       "['__add__',\n",
       " '__class__',\n",
       " '__contains__',\n",
       " '__delattr__',\n",
       " '__delitem__',\n",
       " '__dir__',\n",
       " '__doc__',\n",
       " '__eq__',\n",
       " '__format__',\n",
       " '__ge__',\n",
       " '__getattribute__',\n",
       " '__getitem__',\n",
       " '__gt__',\n",
       " '__hash__',\n",
       " '__iadd__',\n",
       " '__imul__',\n",
       " '__init__',\n",
       " '__init_subclass__',\n",
       " '__iter__',\n",
       " '__le__',\n",
       " '__len__',\n",
       " '__lt__',\n",
       " '__mul__',\n",
       " '__ne__',\n",
       " '__new__',\n",
       " '__reduce__',\n",
       " '__reduce_ex__',\n",
       " '__repr__',\n",
       " '__reversed__',\n",
       " '__rmul__',\n",
       " '__setattr__',\n",
       " '__setitem__',\n",
       " '__sizeof__',\n",
       " '__str__',\n",
       " '__subclasshook__',\n",
       " 'append',\n",
       " 'clear',\n",
       " 'copy',\n",
       " 'count',\n",
       " 'extend',\n",
       " 'index',\n",
       " 'insert',\n",
       " 'pop',\n",
       " 'remove',\n",
       " 'reverse',\n",
       " 'sort']"
      ]
     },
     "execution_count": 29,
     "metadata": {},
     "output_type": "execute_result"
    }
   ],
   "source": [
    "dir(list)"
   ]
  },
  {
   "cell_type": "code",
   "execution_count": 30,
   "metadata": {},
   "outputs": [
    {
     "data": {
      "text/plain": [
       "'\\nSignature: list.index(self, value, start=0, stop=9223372036854775807, /)\\nDocstring:\\nReturn first index of value.\\n\\nRaises ValueError if the value is not present.\\nType:      method_descriptor\\n'"
      ]
     },
     "execution_count": 30,
     "metadata": {},
     "output_type": "execute_result"
    }
   ],
   "source": [
    "# Let's investigate the index function, that looks promising\n",
    "\n",
    "list.index?\n",
    "'''\n",
    "Signature: list.index(self, value, start=0, stop=9223372036854775807, /)\n",
    "Docstring:\n",
    "Return first index of value.\n",
    "\n",
    "Raises ValueError if the value is not present.\n",
    "Type:      method_descriptor\n",
    "'''"
   ]
  },
  {
   "cell_type": "code",
   "execution_count": 31,
   "metadata": {},
   "outputs": [
    {
     "name": "stdout",
     "output_type": "stream",
     "text": [
      "1\n"
     ]
    }
   ],
   "source": [
    "#ASIDE\n",
    "list2 = [100,300,500,700]\n",
    "\n",
    "print(list2.index(300))\n"
   ]
  },
  {
   "cell_type": "code",
   "execution_count": 32,
   "metadata": {},
   "outputs": [
    {
     "name": "stdout",
     "output_type": "stream",
     "text": [
      "['2', '3', '4', '5', '6', '7', '8', '9', '10', 'J', 'Q', 'K', 'A']\n"
     ]
    }
   ],
   "source": [
    "print(RANK)"
   ]
  },
  {
   "cell_type": "code",
   "execution_count": 33,
   "metadata": {},
   "outputs": [
    {
     "data": {
      "text/plain": [
       "('2', 'HEARTS')"
      ]
     },
     "execution_count": 33,
     "metadata": {},
     "output_type": "execute_result"
    }
   ],
   "source": [
    "first"
   ]
  },
  {
   "cell_type": "code",
   "execution_count": 34,
   "metadata": {},
   "outputs": [
    {
     "data": {
      "text/plain": [
       "('A', 'SPADES')"
      ]
     },
     "execution_count": 34,
     "metadata": {},
     "output_type": "execute_result"
    }
   ],
   "source": [
    "last"
   ]
  },
  {
   "cell_type": "code",
   "execution_count": 35,
   "metadata": {},
   "outputs": [
    {
     "name": "stdout",
     "output_type": "stream",
     "text": [
      "('2', 'HEARTS') ('A', 'SPADES')\n",
      "2 A\n"
     ]
    }
   ],
   "source": [
    "print(first, last)\n",
    "print(first[0], last[0])"
   ]
  },
  {
   "cell_type": "code",
   "execution_count": 36,
   "metadata": {},
   "outputs": [
    {
     "data": {
      "text/plain": [
       "0"
      ]
     },
     "execution_count": 36,
     "metadata": {},
     "output_type": "execute_result"
    }
   ],
   "source": [
    "RANK.index(first[0])"
   ]
  },
  {
   "cell_type": "code",
   "execution_count": 37,
   "metadata": {},
   "outputs": [
    {
     "data": {
      "text/plain": [
       "12"
      ]
     },
     "execution_count": 37,
     "metadata": {},
     "output_type": "execute_result"
    }
   ],
   "source": [
    "RANK.index(last[0])"
   ]
  },
  {
   "cell_type": "code",
   "execution_count": 38,
   "metadata": {},
   "outputs": [
    {
     "data": {
      "text/plain": [
       "True"
      ]
     },
     "execution_count": 38,
     "metadata": {},
     "output_type": "execute_result"
    }
   ],
   "source": [
    "RANK.index(last[0]) > RANK.index(first[0])"
   ]
  },
  {
   "cell_type": "code",
   "execution_count": 39,
   "metadata": {},
   "outputs": [],
   "source": [
    "# yay!!! we know that the A of SPADES beats the 2 of Hearts!!!!"
   ]
  },
  {
   "cell_type": "code",
   "execution_count": null,
   "metadata": {},
   "outputs": [],
   "source": []
  },
  {
   "cell_type": "code",
   "execution_count": 40,
   "metadata": {},
   "outputs": [],
   "source": [
    "#wow, what were we doing again? \n",
    "#It's been so long that i've forgotten!"
   ]
  },
  {
   "cell_type": "code",
   "execution_count": 41,
   "metadata": {},
   "outputs": [],
   "source": [
    "# given two cards, either:\n",
    "#     card1 is higher, or\n",
    "#     card2 is higher, or\n",
    "#     it's a tie. \n",
    "# So there are three possibilities, just like with rock paper scissors!\n",
    "\n",
    "# let's put everything we've done so far all toghether and review\n",
    "RANK = '2 3 4 5 6 7 8 9 10 J Q K A'.split()\n",
    "SUITS = 'HEARTS CLUBS DIAMONDS SPADES'.split()\n",
    "\n",
    "deck = [] \n",
    "\n",
    "for rank in RANK:  \n",
    "    for suit in SUITS:\n",
    "        deck.append((rank, suit)) \n",
    "        \n",
    "def high_card(card1, card2):\n",
    "    if RANK.index(card1[0]) > RANK.index(card2[0]): #card 1 > card2\n",
    "        return 1\n",
    "    elif RANK.index(card1[0]) < RANK.index(card2[0]):\n",
    "        return 2\n",
    "    else:\n",
    "        return 0\n",
    "    "
   ]
  },
  {
   "cell_type": "code",
   "execution_count": 42,
   "metadata": {},
   "outputs": [
    {
     "data": {
      "text/plain": [
       "['BPF',\n",
       " 'LOG4',\n",
       " 'NV_MAGICCONST',\n",
       " 'RECIP_BPF',\n",
       " 'Random',\n",
       " 'SG_MAGICCONST',\n",
       " 'SystemRandom',\n",
       " 'TWOPI',\n",
       " '_BuiltinMethodType',\n",
       " '_MethodType',\n",
       " '_Sequence',\n",
       " '_Set',\n",
       " '__all__',\n",
       " '__builtins__',\n",
       " '__cached__',\n",
       " '__doc__',\n",
       " '__file__',\n",
       " '__loader__',\n",
       " '__name__',\n",
       " '__package__',\n",
       " '__spec__',\n",
       " '_acos',\n",
       " '_bisect',\n",
       " '_ceil',\n",
       " '_cos',\n",
       " '_e',\n",
       " '_exp',\n",
       " '_inst',\n",
       " '_itertools',\n",
       " '_log',\n",
       " '_os',\n",
       " '_pi',\n",
       " '_random',\n",
       " '_sha512',\n",
       " '_sin',\n",
       " '_sqrt',\n",
       " '_test',\n",
       " '_test_generator',\n",
       " '_urandom',\n",
       " '_warn',\n",
       " 'betavariate',\n",
       " 'choice',\n",
       " 'choices',\n",
       " 'expovariate',\n",
       " 'gammavariate',\n",
       " 'gauss',\n",
       " 'getrandbits',\n",
       " 'getstate',\n",
       " 'lognormvariate',\n",
       " 'normalvariate',\n",
       " 'paretovariate',\n",
       " 'randint',\n",
       " 'random',\n",
       " 'randrange',\n",
       " 'sample',\n",
       " 'seed',\n",
       " 'setstate',\n",
       " 'shuffle',\n",
       " 'triangular',\n",
       " 'uniform',\n",
       " 'vonmisesvariate',\n",
       " 'weibullvariate']"
      ]
     },
     "execution_count": 42,
     "metadata": {},
     "output_type": "execute_result"
    }
   ],
   "source": [
    "import random\n",
    "dir(random)"
   ]
  },
  {
   "cell_type": "code",
   "execution_count": 43,
   "metadata": {},
   "outputs": [
    {
     "data": {
      "text/plain": [
       "('8', 'HEARTS')"
      ]
     },
     "execution_count": 43,
     "metadata": {},
     "output_type": "execute_result"
    }
   ],
   "source": [
    "# naive implementation #note we'd actually want to make sure to remove card from deck after picking it.\n",
    "\n",
    "player1_card = random.choice(deck) \n",
    "player1_card"
   ]
  },
  {
   "cell_type": "code",
   "execution_count": 44,
   "metadata": {},
   "outputs": [
    {
     "data": {
      "text/plain": [
       "('6', 'SPADES')"
      ]
     },
     "execution_count": 44,
     "metadata": {},
     "output_type": "execute_result"
    }
   ],
   "source": [
    "player2_card = random.choice(deck)\n",
    "player2_card"
   ]
  },
  {
   "cell_type": "code",
   "execution_count": 45,
   "metadata": {},
   "outputs": [
    {
     "name": "stdout",
     "output_type": "stream",
     "text": [
      "player 1 got a ('K', 'HEARTS') and player 2 got a ('7', 'SPADES')\n",
      "Player 1 wins!\n"
     ]
    }
   ],
   "source": [
    "RANK = '2 3 4 5 6 7 8 9 10 J Q K A'.split()\n",
    "SUITS = 'HEARTS CLUBS DIAMONDS SPADES'.split()\n",
    "\n",
    "deck = [] \n",
    "\n",
    "for rank in RANK:  \n",
    "    for suit in SUITS:\n",
    "        deck.append((rank, suit)) \n",
    "        \n",
    "def high_card(card1, card2):\n",
    "    if RANK.index(card1[0]) > RANK.index(card2[0]): #card 1 > card2\n",
    "        return 1\n",
    "    elif RANK.index(card1[0]) < RANK.index(card2[0]):\n",
    "        return 2\n",
    "    else:\n",
    "        return 0\n",
    "\n",
    "player1_card = random.choice(deck)\n",
    "player2_card = random.choice(deck)\n",
    "print(f'player 1 got a {player1_card} and player 2 got a {player2_card}')\n",
    "      \n",
    "winner = high_card(player1_card,player2_card)\n",
    "\n",
    "if winner == 1:\n",
    "    print('Player 1 wins!')\n",
    "elif winner == 2:\n",
    "    print('Player 2 wins!')\n",
    "else:\n",
    "    print(\"It's a tie!\")"
   ]
  },
  {
   "cell_type": "code",
   "execution_count": 46,
   "metadata": {},
   "outputs": [
    {
     "data": {
      "text/plain": [
       "[('2', 'HEARTS'),\n",
       " ('2', 'CLUBS'),\n",
       " ('2', 'DIAMONDS'),\n",
       " ('2', 'SPADES'),\n",
       " ('3', 'HEARTS'),\n",
       " ('3', 'CLUBS'),\n",
       " ('3', 'DIAMONDS'),\n",
       " ('3', 'SPADES'),\n",
       " ('4', 'HEARTS'),\n",
       " ('4', 'CLUBS'),\n",
       " ('4', 'DIAMONDS'),\n",
       " ('4', 'SPADES'),\n",
       " ('5', 'HEARTS'),\n",
       " ('5', 'CLUBS'),\n",
       " ('5', 'DIAMONDS'),\n",
       " ('5', 'SPADES'),\n",
       " ('6', 'HEARTS'),\n",
       " ('6', 'CLUBS'),\n",
       " ('6', 'DIAMONDS'),\n",
       " ('6', 'SPADES'),\n",
       " ('7', 'HEARTS'),\n",
       " ('7', 'CLUBS'),\n",
       " ('7', 'DIAMONDS'),\n",
       " ('7', 'SPADES'),\n",
       " ('8', 'HEARTS'),\n",
       " ('8', 'CLUBS'),\n",
       " ('8', 'DIAMONDS'),\n",
       " ('8', 'SPADES'),\n",
       " ('9', 'HEARTS'),\n",
       " ('9', 'CLUBS'),\n",
       " ('9', 'DIAMONDS'),\n",
       " ('9', 'SPADES'),\n",
       " ('10', 'HEARTS'),\n",
       " ('10', 'CLUBS'),\n",
       " ('10', 'DIAMONDS'),\n",
       " ('10', 'SPADES'),\n",
       " ('J', 'HEARTS'),\n",
       " ('J', 'CLUBS'),\n",
       " ('J', 'DIAMONDS'),\n",
       " ('J', 'SPADES'),\n",
       " ('Q', 'HEARTS'),\n",
       " ('Q', 'CLUBS'),\n",
       " ('Q', 'DIAMONDS'),\n",
       " ('Q', 'SPADES'),\n",
       " ('K', 'HEARTS'),\n",
       " ('K', 'CLUBS'),\n",
       " ('K', 'DIAMONDS'),\n",
       " ('K', 'SPADES'),\n",
       " ('A', 'HEARTS'),\n",
       " ('A', 'CLUBS'),\n",
       " ('A', 'DIAMONDS'),\n",
       " ('A', 'SPADES')]"
      ]
     },
     "execution_count": 46,
     "metadata": {},
     "output_type": "execute_result"
    }
   ],
   "source": [
    "deck\n"
   ]
  },
  {
   "cell_type": "markdown",
   "metadata": {},
   "source": [
    "## ASIDE"
   ]
  },
  {
   "cell_type": "code",
   "execution_count": 47,
   "metadata": {},
   "outputs": [
    {
     "data": {
      "text/plain": [
       "(('3', 'HEARTS'), ('4', 'DIAMONDS'))"
      ]
     },
     "execution_count": 47,
     "metadata": {},
     "output_type": "execute_result"
    }
   ],
   "source": [
    "deck[4], deck[10]"
   ]
  },
  {
   "cell_type": "code",
   "execution_count": null,
   "metadata": {},
   "outputs": [],
   "source": []
  },
  {
   "cell_type": "code",
   "execution_count": null,
   "metadata": {},
   "outputs": [],
   "source": []
  },
  {
   "cell_type": "code",
   "execution_count": 48,
   "metadata": {
    "scrolled": true
   },
   "outputs": [
    {
     "data": {
      "text/plain": [
       "('6', 'CLUBS')"
      ]
     },
     "execution_count": 48,
     "metadata": {},
     "output_type": "execute_result"
    }
   ],
   "source": [
    "deck[17]"
   ]
  },
  {
   "cell_type": "code",
   "execution_count": 49,
   "metadata": {},
   "outputs": [
    {
     "data": {
      "text/plain": [
       "'6'"
      ]
     },
     "execution_count": 49,
     "metadata": {},
     "output_type": "execute_result"
    }
   ],
   "source": [
    "deck[17][0]"
   ]
  },
  {
   "cell_type": "code",
   "execution_count": 50,
   "metadata": {},
   "outputs": [
    {
     "data": {
      "text/plain": [
       "'CLUBS'"
      ]
     },
     "execution_count": 50,
     "metadata": {},
     "output_type": "execute_result"
    }
   ],
   "source": [
    "deck[17][1]"
   ]
  },
  {
   "cell_type": "code",
   "execution_count": 51,
   "metadata": {},
   "outputs": [
    {
     "ename": "IndexError",
     "evalue": "tuple index out of range",
     "output_type": "error",
     "traceback": [
      "\u001b[0;31m---------------------------------------------------------------------------\u001b[0m",
      "\u001b[0;31mIndexError\u001b[0m                                Traceback (most recent call last)",
      "\u001b[0;32m<ipython-input-51-712b0aa080c8>\u001b[0m in \u001b[0;36m<module>\u001b[0;34m\u001b[0m\n\u001b[0;32m----> 1\u001b[0;31m \u001b[0mdeck\u001b[0m\u001b[0;34m[\u001b[0m\u001b[0;36m17\u001b[0m\u001b[0;34m]\u001b[0m\u001b[0;34m[\u001b[0m\u001b[0;36m2\u001b[0m\u001b[0;34m]\u001b[0m\u001b[0;34m\u001b[0m\u001b[0;34m\u001b[0m\u001b[0m\n\u001b[0m",
      "\u001b[0;31mIndexError\u001b[0m: tuple index out of range"
     ]
    }
   ],
   "source": [
    "deck[17][2]"
   ]
  }
 ],
 "metadata": {
  "kernelspec": {
   "display_name": "Python 3",
   "language": "python",
   "name": "python3"
  },
  "language_info": {
   "codemirror_mode": {
    "name": "ipython",
    "version": 3
   },
   "file_extension": ".py",
   "mimetype": "text/x-python",
   "name": "python",
   "nbconvert_exporter": "python",
   "pygments_lexer": "ipython3",
   "version": "3.7.7"
  }
 },
 "nbformat": 4,
 "nbformat_minor": 4
}
