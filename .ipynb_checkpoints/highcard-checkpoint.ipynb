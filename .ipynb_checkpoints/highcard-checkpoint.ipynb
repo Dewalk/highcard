{
 "cells": [
  {
   "cell_type": "code",
   "execution_count": null,
   "metadata": {},
   "outputs": [],
   "source": [
    "# given a regular deck of cards two players compete to see whose cards are higher\n"
   ]
  },
  {
   "cell_type": "code",
   "execution_count": 1,
   "metadata": {},
   "outputs": [
    {
     "data": {
      "text/plain": [
       "['2', '3', '4', '5', '6', '7', '8', '9', '10', 'J', 'Q', 'K', 'A']"
      ]
     },
     "execution_count": 1,
     "metadata": {},
     "output_type": "execute_result"
    }
   ],
   "source": [
    "# BECAUSE I WANT this variable to NEVER CHANGE, I define it in ALL CAPS.\n",
    "# This is just a courtesy to the reader. PYTHON doesn't enforce!!!!!\n",
    "\n",
    "RANK = '2 3 4 5 6 7 8 9 10 J Q K A'.split() \n",
    "RANK"
   ]
  },
  {
   "cell_type": "code",
   "execution_count": null,
   "metadata": {},
   "outputs": [],
   "source": [
    "#the str method split() splits a *string* into individual elements \n",
    "#and puts the elements into a *list*. By default, it splits on a single space."
   ]
  },
  {
   "cell_type": "code",
   "execution_count": null,
   "metadata": {},
   "outputs": [],
   "source": [
    "# let's use the split method to make a list of the suits"
   ]
  },
  {
   "cell_type": "code",
   "execution_count": 2,
   "metadata": {},
   "outputs": [
    {
     "data": {
      "text/plain": [
       "['HEARTS', 'CLUBS', 'DIAMONDS', 'SPADES']"
      ]
     },
     "execution_count": 2,
     "metadata": {},
     "output_type": "execute_result"
    }
   ],
   "source": [
    "SUITS = 'HEARTS CLUBS DIAMONDS SPADES'.split()\n",
    "SUITS"
   ]
  },
  {
   "cell_type": "code",
   "execution_count": 15,
   "metadata": {},
   "outputs": [
    {
     "data": {
      "text/plain": [
       "['2 of HEARTS',\n",
       " '2 of CLUBS',\n",
       " '2 of DIAMONDS',\n",
       " '2 of SPADES',\n",
       " '3 of HEARTS',\n",
       " '3 of CLUBS',\n",
       " '3 of DIAMONDS',\n",
       " '3 of SPADES',\n",
       " '4 of HEARTS',\n",
       " '4 of CLUBS',\n",
       " '4 of DIAMONDS',\n",
       " '4 of SPADES',\n",
       " '5 of HEARTS',\n",
       " '5 of CLUBS',\n",
       " '5 of DIAMONDS',\n",
       " '5 of SPADES',\n",
       " '6 of HEARTS',\n",
       " '6 of CLUBS',\n",
       " '6 of DIAMONDS',\n",
       " '6 of SPADES',\n",
       " '7 of HEARTS',\n",
       " '7 of CLUBS',\n",
       " '7 of DIAMONDS',\n",
       " '7 of SPADES',\n",
       " '8 of HEARTS',\n",
       " '8 of CLUBS',\n",
       " '8 of DIAMONDS',\n",
       " '8 of SPADES',\n",
       " '9 of HEARTS',\n",
       " '9 of CLUBS',\n",
       " '9 of DIAMONDS',\n",
       " '9 of SPADES',\n",
       " '10 of HEARTS',\n",
       " '10 of CLUBS',\n",
       " '10 of DIAMONDS',\n",
       " '10 of SPADES',\n",
       " 'J of HEARTS',\n",
       " 'J of CLUBS',\n",
       " 'J of DIAMONDS',\n",
       " 'J of SPADES',\n",
       " 'Q of HEARTS',\n",
       " 'Q of CLUBS',\n",
       " 'Q of DIAMONDS',\n",
       " 'Q of SPADES',\n",
       " 'K of HEARTS',\n",
       " 'K of CLUBS',\n",
       " 'K of DIAMONDS',\n",
       " 'K of SPADES',\n",
       " 'A of HEARTS',\n",
       " 'A of CLUBS',\n",
       " 'A of DIAMONDS',\n",
       " 'A of SPADES']"
      ]
     },
     "execution_count": 15,
     "metadata": {},
     "output_type": "execute_result"
    }
   ],
   "source": [
    "# let's make a deck of cards using our RANK and SUITS and nested for loops\n",
    "deck1 = [] # define an empty list to hold our cards\n",
    "\n",
    "for rank in RANK:\n",
    "    for suit in SUITS:\n",
    "        deck1.append(f'{rank} of {suit}')\n",
    "deck1"
   ]
  },
  {
   "cell_type": "code",
   "execution_count": null,
   "metadata": {},
   "outputs": [],
   "source": [
    "# we now have 52 cards! to use to play our game\n",
    "len(deck1)"
   ]
  },
  {
   "cell_type": "markdown",
   "metadata": {},
   "source": [
    "so we did all this stuff and it looks ok.\n",
    "BUT WE HAVE A BIG PROBLEM if we want to use this deck to play high card!!!\n",
    "Any ideas on what the problem is?"
   ]
  },
  {
   "cell_type": "code",
   "execution_count": null,
   "metadata": {},
   "outputs": [],
   "source": []
  },
  {
   "cell_type": "code",
   "execution_count": null,
   "metadata": {},
   "outputs": [],
   "source": []
  },
  {
   "cell_type": "code",
   "execution_count": null,
   "metadata": {},
   "outputs": [],
   "source": []
  },
  {
   "cell_type": "code",
   "execution_count": null,
   "metadata": {},
   "outputs": [],
   "source": []
  },
  {
   "cell_type": "code",
   "execution_count": null,
   "metadata": {},
   "outputs": [],
   "source": []
  },
  {
   "cell_type": "code",
   "execution_count": null,
   "metadata": {},
   "outputs": [],
   "source": []
  },
  {
   "cell_type": "code",
   "execution_count": null,
   "metadata": {},
   "outputs": [],
   "source": []
  },
  {
   "cell_type": "code",
   "execution_count": 9,
   "metadata": {},
   "outputs": [
    {
     "data": {
      "text/plain": [
       "['2 of HEARTS',\n",
       " '2 of CLUBS',\n",
       " '2 of DIAMONDS',\n",
       " '2 of SPADES',\n",
       " '3 of HEARTS',\n",
       " '3 of CLUBS',\n",
       " '3 of DIAMONDS',\n",
       " '3 of SPADES',\n",
       " '4 of HEARTS',\n",
       " '4 of CLUBS',\n",
       " '4 of DIAMONDS',\n",
       " '4 of SPADES',\n",
       " '5 of HEARTS',\n",
       " '5 of CLUBS',\n",
       " '5 of DIAMONDS',\n",
       " '5 of SPADES',\n",
       " '6 of HEARTS',\n",
       " '6 of CLUBS',\n",
       " '6 of DIAMONDS',\n",
       " '6 of SPADES',\n",
       " '7 of HEARTS',\n",
       " '7 of CLUBS',\n",
       " '7 of DIAMONDS',\n",
       " '7 of SPADES',\n",
       " '8 of HEARTS',\n",
       " '8 of CLUBS',\n",
       " '8 of DIAMONDS',\n",
       " '8 of SPADES',\n",
       " '9 of HEARTS',\n",
       " '9 of CLUBS',\n",
       " '9 of DIAMONDS',\n",
       " '9 of SPADES',\n",
       " '10 of HEARTS',\n",
       " '10 of CLUBS',\n",
       " '10 of DIAMONDS',\n",
       " '10 of SPADES',\n",
       " 'J of HEARTS',\n",
       " 'J of CLUBS',\n",
       " 'J of DIAMONDS',\n",
       " 'J of SPADES',\n",
       " 'Q of HEARTS',\n",
       " 'Q of CLUBS',\n",
       " 'Q of DIAMONDS',\n",
       " 'Q of SPADES',\n",
       " 'K of HEARTS',\n",
       " 'K of CLUBS',\n",
       " 'K of DIAMONDS',\n",
       " 'K of SPADES',\n",
       " 'A of HEARTS',\n",
       " 'A of CLUBS',\n",
       " 'A of DIAMONDS',\n",
       " 'A of SPADES']"
      ]
     },
     "execution_count": 9,
     "metadata": {},
     "output_type": "execute_result"
    }
   ],
   "source": [
    "#OUR BIG PROBLEM: HOW DO I TELL WHICH CARD IS HIGHER???\n",
    "deck1"
   ]
  },
  {
   "cell_type": "code",
   "execution_count": null,
   "metadata": {},
   "outputs": [],
   "source": [
    "# It would be better if I stored the RANK and the SUIT separately, but together.\n",
    "# That way, I could just use the RANK to decide which card was higher."
   ]
  },
  {
   "cell_type": "code",
   "execution_count": 10,
   "metadata": {},
   "outputs": [
    {
     "name": "stdout",
     "output_type": "stream",
     "text": [
      "['2', '3', '4', '5', '6', '7', '8', '9', '10', 'J', 'Q', 'K', 'A']\n"
     ]
    }
   ],
   "source": [
    "print(RANK)"
   ]
  },
  {
   "cell_type": "code",
   "execution_count": 3,
   "metadata": {},
   "outputs": [
    {
     "data": {
      "text/plain": [
       "'2'"
      ]
     },
     "execution_count": 3,
     "metadata": {},
     "output_type": "execute_result"
    }
   ],
   "source": [
    "RANK[0]"
   ]
  },
  {
   "cell_type": "code",
   "execution_count": 4,
   "metadata": {},
   "outputs": [
    {
     "data": {
      "text/plain": [
       "'A'"
      ]
     },
     "execution_count": 4,
     "metadata": {},
     "output_type": "execute_result"
    }
   ],
   "source": [
    "RANK[12]"
   ]
  },
  {
   "cell_type": "markdown",
   "metadata": {},
   "source": [
    "So, if I store the RANK separately from the SUIT, \n",
    "I can use the index position of the RANK to tell which card wins!!!\n",
    "higher index ==> higher card!!!"
   ]
  },
  {
   "cell_type": "markdown",
   "metadata": {},
   "source": [
    "That means we need to start over!"
   ]
  },
  {
   "cell_type": "markdown",
   "metadata": {},
   "source": [
    "We didn't talk about *tuples* much, but this is a PERFECT PLACE to use them.\n",
    "I need to store two related things, rank and suit, together in one place\n",
    "So I will redo my deck entirely! \n",
    "Need make each one of my cards into a tuple and keep my deck as a list\n",
    "My deck will be .... a list of tuples!"
   ]
  },
  {
   "cell_type": "code",
   "execution_count": 11,
   "metadata": {},
   "outputs": [
    {
     "name": "stdout",
     "output_type": "stream",
     "text": [
      "['2', '3', '4', '5', '6', '7', '8', '9', '10', 'J', 'Q', 'K', 'A']\n",
      "['HEARTS', 'CLUBS', 'DIAMONDS', 'SPADES']\n"
     ]
    }
   ],
   "source": [
    "print(RANK)\n",
    "print(SUITS)"
   ]
  },
  {
   "cell_type": "code",
   "execution_count": 35,
   "metadata": {},
   "outputs": [
    {
     "data": {
      "text/plain": [
       "[('2', 'HEARTS'),\n",
       " ('2', 'CLUBS'),\n",
       " ('2', 'DIAMONDS'),\n",
       " ('2', 'SPADES'),\n",
       " ('3', 'HEARTS'),\n",
       " ('3', 'CLUBS'),\n",
       " ('3', 'DIAMONDS'),\n",
       " ('3', 'SPADES'),\n",
       " ('4', 'HEARTS'),\n",
       " ('4', 'CLUBS'),\n",
       " ('4', 'DIAMONDS'),\n",
       " ('4', 'SPADES'),\n",
       " ('5', 'HEARTS'),\n",
       " ('5', 'CLUBS'),\n",
       " ('5', 'DIAMONDS'),\n",
       " ('5', 'SPADES'),\n",
       " ('6', 'HEARTS'),\n",
       " ('6', 'CLUBS'),\n",
       " ('6', 'DIAMONDS'),\n",
       " ('6', 'SPADES'),\n",
       " ('7', 'HEARTS'),\n",
       " ('7', 'CLUBS'),\n",
       " ('7', 'DIAMONDS'),\n",
       " ('7', 'SPADES'),\n",
       " ('8', 'HEARTS'),\n",
       " ('8', 'CLUBS'),\n",
       " ('8', 'DIAMONDS'),\n",
       " ('8', 'SPADES'),\n",
       " ('9', 'HEARTS'),\n",
       " ('9', 'CLUBS'),\n",
       " ('9', 'DIAMONDS'),\n",
       " ('9', 'SPADES'),\n",
       " ('10', 'HEARTS'),\n",
       " ('10', 'CLUBS'),\n",
       " ('10', 'DIAMONDS'),\n",
       " ('10', 'SPADES'),\n",
       " ('J', 'HEARTS'),\n",
       " ('J', 'CLUBS'),\n",
       " ('J', 'DIAMONDS'),\n",
       " ('J', 'SPADES'),\n",
       " ('Q', 'HEARTS'),\n",
       " ('Q', 'CLUBS'),\n",
       " ('Q', 'DIAMONDS'),\n",
       " ('Q', 'SPADES'),\n",
       " ('K', 'HEARTS'),\n",
       " ('K', 'CLUBS'),\n",
       " ('K', 'DIAMONDS'),\n",
       " ('K', 'SPADES'),\n",
       " ('A', 'HEARTS'),\n",
       " ('A', 'CLUBS'),\n",
       " ('A', 'DIAMONDS'),\n",
       " ('A', 'SPADES')]"
      ]
     },
     "execution_count": 35,
     "metadata": {},
     "output_type": "execute_result"
    }
   ],
   "source": [
    "deck = [] # #This part stays the same\n",
    "\n",
    "for rank in RANK:  \n",
    "    for suit in SUITS:\n",
    "        deck.append((rank, suit)) ##This part CHANGES. The individual cards are now tuples.\n",
    "\n",
    "deck"
   ]
  },
  {
   "cell_type": "markdown",
   "metadata": {},
   "source": [
    "HOW DOES THIS SOLVE OUR PROBLEM???\n",
    "We want to see if one card is higher than another.\n",
    "Take a moment to figure out how we might do this"
   ]
  },
  {
   "cell_type": "code",
   "execution_count": 36,
   "metadata": {},
   "outputs": [
    {
     "name": "stdout",
     "output_type": "stream",
     "text": [
      "('2', 'HEARTS') ('A', 'SPADES')\n"
     ]
    }
   ],
   "source": [
    "# suppose we want to compare the first and the last card in the deck\n",
    "\n",
    "first = deck[0]\n",
    "last = deck[-1]\n",
    "print(first, last)"
   ]
  },
  {
   "cell_type": "code",
   "execution_count": 21,
   "metadata": {},
   "outputs": [
    {
     "name": "stdout",
     "output_type": "stream",
     "text": [
      "2\n",
      "A\n"
     ]
    }
   ],
   "source": [
    "# to see which one is higher, we need to compare the first part of each tuple.\n",
    "\n",
    "print(first[0])\n",
    "print(last[0])\n"
   ]
  },
  {
   "cell_type": "code",
   "execution_count": 22,
   "metadata": {},
   "outputs": [
    {
     "name": "stdout",
     "output_type": "stream",
     "text": [
      "['2', '3', '4', '5', '6', '7', '8', '9', '10', 'J', 'Q', 'K', 'A']\n"
     ]
    }
   ],
   "source": [
    "# BUT HOW, EXACTLY, DO WE COMPARE THEM??\n",
    "# WE NEED TO USE OUR RANK variable, the list we defined earlier!\n",
    "print(RANK)"
   ]
  },
  {
   "cell_type": "markdown",
   "metadata": {},
   "source": [
    "if only there were a way to compare the first part of each tuple, \n",
    "then look it up in the list\n",
    "and then see which index was a higher number!!\n",
    "\n",
    "sounds like we need to investigate what methods are available for lists!\n",
    "\n",
    "how do we do that?"
   ]
  },
  {
   "cell_type": "code",
   "execution_count": 23,
   "metadata": {},
   "outputs": [
    {
     "data": {
      "text/plain": [
       "['__add__',\n",
       " '__class__',\n",
       " '__contains__',\n",
       " '__delattr__',\n",
       " '__delitem__',\n",
       " '__dir__',\n",
       " '__doc__',\n",
       " '__eq__',\n",
       " '__format__',\n",
       " '__ge__',\n",
       " '__getattribute__',\n",
       " '__getitem__',\n",
       " '__gt__',\n",
       " '__hash__',\n",
       " '__iadd__',\n",
       " '__imul__',\n",
       " '__init__',\n",
       " '__init_subclass__',\n",
       " '__iter__',\n",
       " '__le__',\n",
       " '__len__',\n",
       " '__lt__',\n",
       " '__mul__',\n",
       " '__ne__',\n",
       " '__new__',\n",
       " '__reduce__',\n",
       " '__reduce_ex__',\n",
       " '__repr__',\n",
       " '__reversed__',\n",
       " '__rmul__',\n",
       " '__setattr__',\n",
       " '__setitem__',\n",
       " '__sizeof__',\n",
       " '__str__',\n",
       " '__subclasshook__',\n",
       " 'append',\n",
       " 'clear',\n",
       " 'copy',\n",
       " 'count',\n",
       " 'extend',\n",
       " 'index',\n",
       " 'insert',\n",
       " 'pop',\n",
       " 'remove',\n",
       " 'reverse',\n",
       " 'sort']"
      ]
     },
     "execution_count": 23,
     "metadata": {},
     "output_type": "execute_result"
    }
   ],
   "source": [
    "dir(list)"
   ]
  },
  {
   "cell_type": "code",
   "execution_count": 26,
   "metadata": {},
   "outputs": [],
   "source": [
    "# Let's investigate the index function, that looks promising\n",
    "\n",
    "list.index?\n",
    "'''\n",
    "Signature: list.index(self, value, start=0, stop=9223372036854775807, /)\n",
    "Docstring:\n",
    "Return first index of value.\n",
    "\n",
    "Raises ValueError if the value is not present.\n",
    "Type:      method_descriptor\n",
    "'''"
   ]
  },
  {
   "cell_type": "code",
   "execution_count": 29,
   "metadata": {},
   "outputs": [
    {
     "name": "stdout",
     "output_type": "stream",
     "text": [
      "['2', '3', '4', '5', '6', '7', '8', '9', '10', 'J', 'Q', 'K', 'A']\n",
      "('2', 'HEARTS') ('A', 'SPADES')\n",
      "2 A\n"
     ]
    }
   ],
   "source": [
    "print(RANK)\n",
    "print(first, last)\n",
    "print(first[0], last[0])"
   ]
  },
  {
   "cell_type": "code",
   "execution_count": 32,
   "metadata": {},
   "outputs": [
    {
     "data": {
      "text/plain": [
       "0"
      ]
     },
     "execution_count": 32,
     "metadata": {},
     "output_type": "execute_result"
    }
   ],
   "source": [
    "RANK.index(first[0])"
   ]
  },
  {
   "cell_type": "code",
   "execution_count": 33,
   "metadata": {},
   "outputs": [
    {
     "data": {
      "text/plain": [
       "12"
      ]
     },
     "execution_count": 33,
     "metadata": {},
     "output_type": "execute_result"
    }
   ],
   "source": [
    "RANK.index(last[0])"
   ]
  },
  {
   "cell_type": "code",
   "execution_count": 34,
   "metadata": {},
   "outputs": [
    {
     "data": {
      "text/plain": [
       "True"
      ]
     },
     "execution_count": 34,
     "metadata": {},
     "output_type": "execute_result"
    }
   ],
   "source": [
    "RANK.index(last[0]) > RANK.index(first[0])"
   ]
  },
  {
   "cell_type": "code",
   "execution_count": null,
   "metadata": {},
   "outputs": [],
   "source": [
    "# yay!!! we know that the A of SPADES beats the 2 of Hearts!!!!"
   ]
  },
  {
   "cell_type": "code",
   "execution_count": null,
   "metadata": {},
   "outputs": [],
   "source": []
  },
  {
   "cell_type": "code",
   "execution_count": null,
   "metadata": {},
   "outputs": [],
   "source": [
    "#wow, what were we doing again? It's been so long that i've forgotten!"
   ]
  },
  {
   "cell_type": "code",
   "execution_count": 48,
   "metadata": {},
   "outputs": [],
   "source": [
    "# given two cards, either:\n",
    "#     card1 is higher, or\n",
    "#     card2 is higher, or\n",
    "#     it's a tie. \n",
    "# So there are three possibilities, just like with rock paper scissors!\n",
    "\n",
    "# let's put everything we've done so far all toghether and review\n",
    "RANK = '2 3 4 5 6 7 8 9 10 J Q K A'.split()\n",
    "SUITS = 'HEARTS CLUBS DIAMONDS SPADES'.split()\n",
    "\n",
    "deck = [] \n",
    "\n",
    "for rank in RANK:  \n",
    "    for suit in SUITS:\n",
    "        deck.append((rank, suit)) \n",
    "        \n",
    "def high_card(card1, card2):\n",
    "    if RANK.index(card1[0]) > RANK.index(card2[0]): #card 1 > card2\n",
    "        return 1\n",
    "    elif RANK.index(card1[0]) < RANK.index(card2[0]):\n",
    "        return 2\n",
    "    else:\n",
    "        return 0\n",
    "    "
   ]
  },
  {
   "cell_type": "code",
   "execution_count": 49,
   "metadata": {},
   "outputs": [
    {
     "data": {
      "text/plain": [
       "('K', 'HEARTS')"
      ]
     },
     "execution_count": 49,
     "metadata": {},
     "output_type": "execute_result"
    }
   ],
   "source": [
    "# naive implementation #note we'd actually want to make sure to remove card from deck after picking it.\n",
    "import random\n",
    "\n",
    "player1_card = random.choice(deck) \n",
    "player1_card"
   ]
  },
  {
   "cell_type": "code",
   "execution_count": 50,
   "metadata": {},
   "outputs": [],
   "source": [
    "player2_card = random.choice(deck)"
   ]
  },
  {
   "cell_type": "code",
   "execution_count": 52,
   "metadata": {},
   "outputs": [
    {
     "name": "stdout",
     "output_type": "stream",
     "text": [
      "player 1 got a ('K', 'HEARTS') and player 2 got a ('J', 'CLUBS')\n",
      "Player 1 wins!\n"
     ]
    }
   ],
   "source": [
    "print(f'player 1 got a {player1_card} and player 2 got a {player2_card}')\n",
    "      \n",
    "winner = high_card(player1_card,player2_card)\n",
    "\n",
    "if winner == 1:\n",
    "    print('Player 1 wins!')\n",
    "elif winner == 2:\n",
    "    print('Player 2 wins!')\n",
    "else:\n",
    "    print(\"It's a tie!\")"
   ]
  },
  {
   "cell_type": "code",
   "execution_count": null,
   "metadata": {},
   "outputs": [],
   "source": []
  }
 ],
 "metadata": {
  "kernelspec": {
   "display_name": "Python 3",
   "language": "python",
   "name": "python3"
  },
  "language_info": {
   "codemirror_mode": {
    "name": "ipython",
    "version": 3
   },
   "file_extension": ".py",
   "mimetype": "text/x-python",
   "name": "python",
   "nbconvert_exporter": "python",
   "pygments_lexer": "ipython3",
   "version": "3.7.7"
  }
 },
 "nbformat": 4,
 "nbformat_minor": 4
}
